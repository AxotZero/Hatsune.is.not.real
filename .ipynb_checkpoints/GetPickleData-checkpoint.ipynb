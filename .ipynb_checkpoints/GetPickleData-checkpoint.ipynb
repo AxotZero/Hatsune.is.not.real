{
 "cells": [
  {
   "cell_type": "code",
   "execution_count": 2,
   "metadata": {},
   "outputs": [],
   "source": [
    "import tensorflow as tf\n",
    "import matplotlib.pyplot as plt\n",
    "import os\n",
    "import cv2\n",
    "from tqdm import tqdm\n",
    "\n",
    "\n",
    "DataDir = 'D:\\Course_2-2\\python\\isThatReal'\n",
    "Categories = ['fake', 'real']\n",
    "imgSize = 70\n",
    "trainData = []\n",
    "def create_Data():\n",
    "    for category in Categories:\n",
    "        path = os.path.join(DataDir, category)\n",
    "        class_num = Categories.index(category)\n",
    "        \n",
    "        for img in tqdm(os.listdir(path)):\n",
    "            try:\n",
    "                imgArray = cv2.imread(os.path.join(path, img), cv2.IMREAD_GRAYSCALE)\n",
    "                newImgArray = cv2.resize(imgArray, (imgSize, imgSize))\n",
    "                trainData.append([newImgArray, class_num])\n",
    "            except Exception as e:\n",
    "                pass"
   ]
  },
  {
   "cell_type": "code",
   "execution_count": null,
   "metadata": {},
   "outputs": [],
   "source": [
    "create_Data()\n",
    "print(len(trainData))"
   ]
  },
  {
   "cell_type": "code",
   "execution_count": null,
   "metadata": {},
   "outputs": [],
   "source": [
    "import random\n",
    "random.shuffle(trainData)"
   ]
  },
  {
   "cell_type": "code",
   "execution_count": null,
   "metadata": {},
   "outputs": [],
   "source": [
    "for sample in trainData[:10]:\n",
    "    print(sample[1])"
   ]
  },
  {
   "cell_type": "code",
   "execution_count": null,
   "metadata": {},
   "outputs": [],
   "source": [
    "Data = []\n",
    "Labels = []\n",
    "\n",
    "for data, label in trainData:\n",
    "    Data.append(data)\n",
    "    Labels.append(label)"
   ]
  },
  {
   "cell_type": "code",
   "execution_count": null,
   "metadata": {},
   "outputs": [],
   "source": [
    "print(Data[0].reshape(-1, imgSize, imgSize, 1))\n",
    "Data = np.array(Data).reshape(-1, imgSize, imgSize, 1)"
   ]
  },
  {
   "cell_type": "code",
   "execution_count": null,
   "metadata": {},
   "outputs": [],
   "source": [
    "import pickle\n",
    "\n",
    "pickle_out = open(\"Data.pickle\", \"wb\")\n",
    "pickle.dump(Data, pickle_out)\n",
    "pickle_out.close()\n",
    "\n",
    "pickle_out = open(\"Labels.pickle\", \"wb\")\n",
    "pickle.dump(Labels, pickle_out)\n",
    "pickle_out.close()"
   ]
  }
 ],
 "metadata": {
  "kernelspec": {
   "display_name": "Python 3",
   "language": "python",
   "name": "python3"
  },
  "language_info": {
   "codemirror_mode": {
    "name": "ipython",
    "version": 3
   },
   "file_extension": ".py",
   "mimetype": "text/x-python",
   "name": "python",
   "nbconvert_exporter": "python",
   "pygments_lexer": "ipython3",
   "version": "3.7.1"
  }
 },
 "nbformat": 4,
 "nbformat_minor": 2
}
